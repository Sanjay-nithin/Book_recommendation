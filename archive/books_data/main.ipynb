{
 "cells": [
  {
   "cell_type": "code",
   "execution_count": 1,
   "metadata": {},
   "outputs": [
    {
     "data": {
      "text/plain": [
       "array(['First Edition', 'US Edition', nan, ..., 'pocket-book', '#37465',\n",
       "       'Recopilatorio.'], dtype=object)"
      ]
     },
     "execution_count": 1,
     "metadata": {},
     "output_type": "execute_result"
    }
   ],
   "source": [
    "import numpy as np \n",
    "import pandas as pd\n",
    "import matplotlib.pyplot as plt \n",
    "\n",
    "df = pd.read_csv(\"./books_1.Best_Books_Ever.csv\", encoding=\"latin-1\", on_bad_lines=\"skip\")\n",
    "\n",
    "df['edition'].unique()"
   ]
  },
  {
   "cell_type": "code",
   "execution_count": 2,
   "metadata": {},
   "outputs": [],
   "source": [
    "df['edition'] = df['edition'].fillna('First Edition')"
   ]
  },
  {
   "cell_type": "code",
   "execution_count": 3,
   "metadata": {},
   "outputs": [
    {
     "data": {
      "text/plain": [
       "bookId              52478\n",
       "title               52478\n",
       "series              23470\n",
       "author              52478\n",
       "rating              52478\n",
       "description         51140\n",
       "language            48672\n",
       "isbn                52478\n",
       "genres              52478\n",
       "characters          52478\n",
       "bookFormat          51005\n",
       "edition             52478\n",
       "pages               50131\n",
       "publisher           48782\n",
       "publishDate         51598\n",
       "firstPublishDate    31152\n",
       "awards              52478\n",
       "numRatings          52478\n",
       "ratingsByStars      52478\n",
       "likedPercent        51856\n",
       "setting             52478\n",
       "coverImg            51873\n",
       "bbeScore            52478\n",
       "bbeVotes            52478\n",
       "price               38113\n",
       "dtype: int64"
      ]
     },
     "execution_count": 3,
     "metadata": {},
     "output_type": "execute_result"
    }
   ],
   "source": [
    "df.count()"
   ]
  },
  {
   "cell_type": "code",
   "execution_count": 4,
   "metadata": {},
   "outputs": [
    {
     "name": "stdout",
     "output_type": "stream",
     "text": [
      "<class 'pandas.core.frame.DataFrame'>\n",
      "Index: 9881 entries, 1 to 52475\n",
      "Data columns (total 25 columns):\n",
      " #   Column            Non-Null Count  Dtype  \n",
      "---  ------            --------------  -----  \n",
      " 0   bookId            9881 non-null   object \n",
      " 1   title             9881 non-null   object \n",
      " 2   series            9881 non-null   object \n",
      " 3   author            9881 non-null   object \n",
      " 4   rating            9881 non-null   float64\n",
      " 5   description       9881 non-null   object \n",
      " 6   language          9881 non-null   object \n",
      " 7   isbn              9881 non-null   object \n",
      " 8   genres            9881 non-null   object \n",
      " 9   characters        9881 non-null   object \n",
      " 10  bookFormat        9881 non-null   object \n",
      " 11  edition           9881 non-null   object \n",
      " 12  pages             9881 non-null   object \n",
      " 13  publisher         9881 non-null   object \n",
      " 14  publishDate       9881 non-null   object \n",
      " 15  firstPublishDate  9881 non-null   object \n",
      " 16  awards            9881 non-null   object \n",
      " 17  numRatings        9881 non-null   int64  \n",
      " 18  ratingsByStars    9881 non-null   object \n",
      " 19  likedPercent      9881 non-null   float64\n",
      " 20  setting           9881 non-null   object \n",
      " 21  coverImg          9881 non-null   object \n",
      " 22  bbeScore          9881 non-null   int64  \n",
      " 23  bbeVotes          9881 non-null   int64  \n",
      " 24  price             9881 non-null   object \n",
      "dtypes: float64(2), int64(3), object(20)\n",
      "memory usage: 2.0+ MB\n"
     ]
    }
   ],
   "source": [
    "data = df.dropna(axis=0)\n",
    "data.info()"
   ]
  },
  {
   "cell_type": "code",
   "execution_count": 6,
   "metadata": {},
   "outputs": [
    {
     "name": "stderr",
     "output_type": "stream",
     "text": [
      "C:\\Users\\Sanjay Nithin\\AppData\\Local\\Temp\\ipykernel_18516\\3692823591.py:3: SettingWithCopyWarning: \n",
      "A value is trying to be set on a copy of a slice from a DataFrame.\n",
      "Try using .loc[row_indexer,col_indexer] = value instead\n",
      "\n",
      "See the caveats in the documentation: https://pandas.pydata.org/pandas-docs/stable/user_guide/indexing.html#returning-a-view-versus-a-copy\n",
      "  data['genres'] = data['genres'].apply(ast.literal_eval)\n"
     ]
    },
    {
     "data": {
      "text/html": [
       "<div>\n",
       "<style scoped>\n",
       "    .dataframe tbody tr th:only-of-type {\n",
       "        vertical-align: middle;\n",
       "    }\n",
       "\n",
       "    .dataframe tbody tr th {\n",
       "        vertical-align: top;\n",
       "    }\n",
       "\n",
       "    .dataframe thead th {\n",
       "        text-align: right;\n",
       "    }\n",
       "</style>\n",
       "<table border=\"1\" class=\"dataframe\">\n",
       "  <thead>\n",
       "    <tr style=\"text-align: right;\">\n",
       "      <th></th>\n",
       "      <th>title</th>\n",
       "      <th>author</th>\n",
       "      <th>isbn</th>\n",
       "      <th>rating</th>\n",
       "      <th>description</th>\n",
       "      <th>genres</th>\n",
       "      <th>publishDate</th>\n",
       "      <th>language</th>\n",
       "      <th>coverImg</th>\n",
       "      <th>pages</th>\n",
       "      <th>likedPercent</th>\n",
       "      <th>publisher</th>\n",
       "    </tr>\n",
       "  </thead>\n",
       "  <tbody>\n",
       "    <tr>\n",
       "      <th>1</th>\n",
       "      <td>Harry Potter and the Order of the Phoenix</td>\n",
       "      <td>J.K. Rowling, Mary GrandPrÃ© (Illustrator)</td>\n",
       "      <td>9780439358071</td>\n",
       "      <td>4.50</td>\n",
       "      <td>There is a door at the end of a silent corrido...</td>\n",
       "      <td>[Fantasy, Young Adult, Fiction, Magic, Childre...</td>\n",
       "      <td>09/28/04</td>\n",
       "      <td>English</td>\n",
       "      <td>https://i.gr-assets.com/images/S/compressed.ph...</td>\n",
       "      <td>870</td>\n",
       "      <td>98.0</td>\n",
       "      <td>Scholastic Inc.</td>\n",
       "    </tr>\n",
       "    <tr>\n",
       "      <th>4</th>\n",
       "      <td>Twilight</td>\n",
       "      <td>Stephenie Meyer</td>\n",
       "      <td>9780316015844</td>\n",
       "      <td>3.60</td>\n",
       "      <td>About three things I was absolutely positive.\\...</td>\n",
       "      <td>[Young Adult, Fantasy, Romance, Vampires, Fict...</td>\n",
       "      <td>09/06/06</td>\n",
       "      <td>English</td>\n",
       "      <td>https://i.gr-assets.com/images/S/compressed.ph...</td>\n",
       "      <td>501</td>\n",
       "      <td>78.0</td>\n",
       "      <td>Little, Brown and Company</td>\n",
       "    </tr>\n",
       "    <tr>\n",
       "      <th>8</th>\n",
       "      <td>J.R.R. Tolkien 4-Book Boxed Set: The Hobbit an...</td>\n",
       "      <td>J.R.R. Tolkien</td>\n",
       "      <td>9780345538376</td>\n",
       "      <td>4.60</td>\n",
       "      <td>This four-volume, boxed set contains J.R.R. To...</td>\n",
       "      <td>[Fantasy, Fiction, Classics, Adventure, Scienc...</td>\n",
       "      <td>09/25/12</td>\n",
       "      <td>English</td>\n",
       "      <td>https://i.gr-assets.com/images/S/compressed.ph...</td>\n",
       "      <td>1728</td>\n",
       "      <td>98.0</td>\n",
       "      <td>Ballantine Books</td>\n",
       "    </tr>\n",
       "    <tr>\n",
       "      <th>17</th>\n",
       "      <td>Alice's Adventures in Wonderland &amp; Through the...</td>\n",
       "      <td>Lewis Carroll, John Tenniel (Illustrator), Mar...</td>\n",
       "      <td>9780451527745</td>\n",
       "      <td>4.06</td>\n",
       "      <td>\"I can't explain myself, I'm afraid, sir,\" sai...</td>\n",
       "      <td>[Classics, Fantasy, Fiction, Childrens, Young ...</td>\n",
       "      <td>12/01/00</td>\n",
       "      <td>English</td>\n",
       "      <td>https://i.gr-assets.com/images/S/compressed.ph...</td>\n",
       "      <td>239</td>\n",
       "      <td>94.0</td>\n",
       "      <td>Penguin Group (USA)</td>\n",
       "    </tr>\n",
       "    <tr>\n",
       "      <th>21</th>\n",
       "      <td>Divergent</td>\n",
       "      <td>Veronica Roth (Goodreads Author)</td>\n",
       "      <td>9780062024039</td>\n",
       "      <td>4.19</td>\n",
       "      <td>In Beatrice Prior's dystopian Chicago world, s...</td>\n",
       "      <td>[Young Adult, Dystopia, Fiction, Fantasy, Scie...</td>\n",
       "      <td>02/28/12</td>\n",
       "      <td>English</td>\n",
       "      <td>https://i.gr-assets.com/images/S/compressed.ph...</td>\n",
       "      <td>487</td>\n",
       "      <td>94.0</td>\n",
       "      <td>Katherine Tegen Books</td>\n",
       "    </tr>\n",
       "  </tbody>\n",
       "</table>\n",
       "</div>"
      ],
      "text/plain": [
       "                                                title  \\\n",
       "1           Harry Potter and the Order of the Phoenix   \n",
       "4                                            Twilight   \n",
       "8   J.R.R. Tolkien 4-Book Boxed Set: The Hobbit an...   \n",
       "17  Alice's Adventures in Wonderland & Through the...   \n",
       "21                                          Divergent   \n",
       "\n",
       "                                               author           isbn  rating  \\\n",
       "1          J.K. Rowling, Mary GrandPrÃ© (Illustrator)  9780439358071    4.50   \n",
       "4                                     Stephenie Meyer  9780316015844    3.60   \n",
       "8                                      J.R.R. Tolkien  9780345538376    4.60   \n",
       "17  Lewis Carroll, John Tenniel (Illustrator), Mar...  9780451527745    4.06   \n",
       "21                   Veronica Roth (Goodreads Author)  9780062024039    4.19   \n",
       "\n",
       "                                          description  \\\n",
       "1   There is a door at the end of a silent corrido...   \n",
       "4   About three things I was absolutely positive.\\...   \n",
       "8   This four-volume, boxed set contains J.R.R. To...   \n",
       "17  \"I can't explain myself, I'm afraid, sir,\" sai...   \n",
       "21  In Beatrice Prior's dystopian Chicago world, s...   \n",
       "\n",
       "                                               genres publishDate language  \\\n",
       "1   [Fantasy, Young Adult, Fiction, Magic, Childre...    09/28/04  English   \n",
       "4   [Young Adult, Fantasy, Romance, Vampires, Fict...    09/06/06  English   \n",
       "8   [Fantasy, Fiction, Classics, Adventure, Scienc...    09/25/12  English   \n",
       "17  [Classics, Fantasy, Fiction, Childrens, Young ...    12/01/00  English   \n",
       "21  [Young Adult, Dystopia, Fiction, Fantasy, Scie...    02/28/12  English   \n",
       "\n",
       "                                             coverImg pages  likedPercent  \\\n",
       "1   https://i.gr-assets.com/images/S/compressed.ph...   870          98.0   \n",
       "4   https://i.gr-assets.com/images/S/compressed.ph...   501          78.0   \n",
       "8   https://i.gr-assets.com/images/S/compressed.ph...  1728          98.0   \n",
       "17  https://i.gr-assets.com/images/S/compressed.ph...   239          94.0   \n",
       "21  https://i.gr-assets.com/images/S/compressed.ph...   487          94.0   \n",
       "\n",
       "                    publisher  \n",
       "1             Scholastic Inc.  \n",
       "4   Little, Brown and Company  \n",
       "8            Ballantine Books  \n",
       "17        Penguin Group (USA)  \n",
       "21      Katherine Tegen Books  "
      ]
     },
     "execution_count": 6,
     "metadata": {},
     "output_type": "execute_result"
    }
   ],
   "source": [
    "import ast\n",
    "result = data[data['language'] == \"English\"]\n",
    "data['genres'] = data['genres'].apply(ast.literal_eval)\n",
    "cols = ['title', 'author', 'isbn', 'rating', 'description', 'genres', 'publishDate', 'language',\n",
    "        'coverImg', 'pages', 'likedPercent', 'publisher']\n",
    "\n",
    "result = data[cols]\n",
    "result.head()"
   ]
  },
  {
   "cell_type": "code",
   "execution_count": 8,
   "metadata": {},
   "outputs": [
    {
     "name": "stdout",
     "output_type": "stream",
     "text": [
      "1     [Fantasy, Young Adult, Fiction, Magic, Childre...\n",
      "4     [Young Adult, Fantasy, Romance, Vampires, Fict...\n",
      "8     [Fantasy, Fiction, Classics, Adventure, Scienc...\n",
      "17    [Classics, Fantasy, Fiction, Childrens, Young ...\n",
      "21    [Young Adult, Dystopia, Fiction, Fantasy, Scie...\n",
      "Name: genres, dtype: object\n",
      "<class 'list'>\n"
     ]
    }
   ],
   "source": [
    "# Check the first few values and their types\n",
    "print(data['genres'].head())\n",
    "print(type(data['genres'].iloc[0]))\n"
   ]
  },
  {
   "cell_type": "code",
   "execution_count": 9,
   "metadata": {},
   "outputs": [
    {
     "name": "stdout",
     "output_type": "stream",
     "text": [
      "<class 'pandas.core.frame.DataFrame'>\n",
      "Index: 9881 entries, 1 to 52475\n",
      "Data columns (total 12 columns):\n",
      " #   Column        Non-Null Count  Dtype  \n",
      "---  ------        --------------  -----  \n",
      " 0   title         9881 non-null   object \n",
      " 1   author        9881 non-null   object \n",
      " 2   isbn          9881 non-null   object \n",
      " 3   rating        9881 non-null   float64\n",
      " 4   description   9881 non-null   object \n",
      " 5   genres        9881 non-null   object \n",
      " 6   publishDate   9881 non-null   object \n",
      " 7   language      9881 non-null   object \n",
      " 8   coverImg      9881 non-null   object \n",
      " 9   pages         9881 non-null   object \n",
      " 10  likedPercent  9881 non-null   float64\n",
      " 11  publisher     9881 non-null   object \n",
      "dtypes: float64(2), object(10)\n",
      "memory usage: 1003.5+ KB\n",
      "None\n"
     ]
    }
   ],
   "source": [
    "# Keep only rows where language == \"English\"\n",
    "\n",
    "result.to_csv(\"./FinalBooks.csv\", index=False)\n",
    "\n",
    "print(result.info())\n"
   ]
  }
 ],
 "metadata": {
  "kernelspec": {
   "display_name": "Python 3",
   "language": "python",
   "name": "python3"
  },
  "language_info": {
   "codemirror_mode": {
    "name": "ipython",
    "version": 3
   },
   "file_extension": ".py",
   "mimetype": "text/x-python",
   "name": "python",
   "nbconvert_exporter": "python",
   "pygments_lexer": "ipython3",
   "version": "3.11.7"
  }
 },
 "nbformat": 4,
 "nbformat_minor": 2
}
